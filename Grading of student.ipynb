{
 "cells": [
  {
   "cell_type": "code",
   "execution_count": 1,
   "metadata": {},
   "outputs": [],
   "source": [
    "import os \n",
    "import numpy as np\n",
    "import pandas as pd\n",
    "\n",
    "import matplotlib.pyplot as plt\n",
    "import seaborn as sns\n",
    "%matplotlib inline\n",
    "\n",
    "from sklearn import datasets, linear_model"
   ]
  },
  {
   "cell_type": "code",
   "execution_count": 2,
   "metadata": {},
   "outputs": [],
   "source": [
    "df = pd.read_csv('Grading of the students in the exam (OR).csv')"
   ]
  },
  {
   "cell_type": "code",
   "execution_count": 3,
   "metadata": {},
   "outputs": [
    {
     "data": {
      "text/html": [
       "<div>\n",
       "<style scoped>\n",
       "    .dataframe tbody tr th:only-of-type {\n",
       "        vertical-align: middle;\n",
       "    }\n",
       "\n",
       "    .dataframe tbody tr th {\n",
       "        vertical-align: top;\n",
       "    }\n",
       "\n",
       "    .dataframe thead th {\n",
       "        text-align: right;\n",
       "    }\n",
       "</style>\n",
       "<table border=\"1\" class=\"dataframe\">\n",
       "  <thead>\n",
       "    <tr style=\"text-align: right;\">\n",
       "      <th></th>\n",
       "      <th>Class Roll</th>\n",
       "      <th>CT-1 (Marks: 20)</th>\n",
       "      <th>CT-2 (Marks: 20)</th>\n",
       "      <th>CT-3 (Marks: 20)</th>\n",
       "      <th>CT-4 (Marks: 20)</th>\n",
       "      <th>CT-5 (Marks: 20)</th>\n",
       "      <th>Class Test (Total of best 4, Marks: 80)</th>\n",
       "      <th>Attendance (Marks: 20)</th>\n",
       "      <th>Observation (Marks: 20)</th>\n",
       "      <th>Total (Marks: 120)</th>\n",
       "      <th>Sec A (140)</th>\n",
       "      <th>Sec B</th>\n",
       "      <th>Final Mark</th>\n",
       "    </tr>\n",
       "  </thead>\n",
       "  <tbody>\n",
       "    <tr>\n",
       "      <td>0</td>\n",
       "      <td>100</td>\n",
       "      <td>8.5</td>\n",
       "      <td>2.0</td>\n",
       "      <td>11</td>\n",
       "      <td>12.0</td>\n",
       "      <td>16.0</td>\n",
       "      <td>47.5</td>\n",
       "      <td>20</td>\n",
       "      <td>17</td>\n",
       "      <td>84.5</td>\n",
       "      <td>57</td>\n",
       "      <td>93.0</td>\n",
       "      <td>58.625</td>\n",
       "    </tr>\n",
       "    <tr>\n",
       "      <td>1</td>\n",
       "      <td>101</td>\n",
       "      <td>7.0</td>\n",
       "      <td>3.0</td>\n",
       "      <td>9</td>\n",
       "      <td>15.0</td>\n",
       "      <td>11.0</td>\n",
       "      <td>42.0</td>\n",
       "      <td>20</td>\n",
       "      <td>8</td>\n",
       "      <td>70.0</td>\n",
       "      <td>83</td>\n",
       "      <td>55.0</td>\n",
       "      <td>52.000</td>\n",
       "    </tr>\n",
       "    <tr>\n",
       "      <td>2</td>\n",
       "      <td>102</td>\n",
       "      <td>11.5</td>\n",
       "      <td>3.0</td>\n",
       "      <td>14</td>\n",
       "      <td>14.0</td>\n",
       "      <td>9.0</td>\n",
       "      <td>48.5</td>\n",
       "      <td>20</td>\n",
       "      <td>14</td>\n",
       "      <td>82.5</td>\n",
       "      <td>77</td>\n",
       "      <td>69.0</td>\n",
       "      <td>57.125</td>\n",
       "    </tr>\n",
       "    <tr>\n",
       "      <td>3</td>\n",
       "      <td>103</td>\n",
       "      <td>6.0</td>\n",
       "      <td>4.0</td>\n",
       "      <td>12</td>\n",
       "      <td>16.0</td>\n",
       "      <td>13.0</td>\n",
       "      <td>47.0</td>\n",
       "      <td>20</td>\n",
       "      <td>15</td>\n",
       "      <td>82.0</td>\n",
       "      <td>15</td>\n",
       "      <td>88.0</td>\n",
       "      <td>42.500</td>\n",
       "    </tr>\n",
       "    <tr>\n",
       "      <td>4</td>\n",
       "      <td>104</td>\n",
       "      <td>8.0</td>\n",
       "      <td>4.5</td>\n",
       "      <td>15</td>\n",
       "      <td>0.0</td>\n",
       "      <td>14.0</td>\n",
       "      <td>41.5</td>\n",
       "      <td>20</td>\n",
       "      <td>12</td>\n",
       "      <td>73.5</td>\n",
       "      <td>71</td>\n",
       "      <td>31.0</td>\n",
       "      <td>43.875</td>\n",
       "    </tr>\n",
       "  </tbody>\n",
       "</table>\n",
       "</div>"
      ],
      "text/plain": [
       "   Class Roll  CT-1 (Marks: 20)  CT-2 (Marks: 20)  CT-3 (Marks: 20)  \\\n",
       "0         100               8.5               2.0                11   \n",
       "1         101               7.0               3.0                 9   \n",
       "2         102              11.5               3.0                14   \n",
       "3         103               6.0               4.0                12   \n",
       "4         104               8.0               4.5                15   \n",
       "\n",
       "   CT-4 (Marks: 20)  CT-5 (Marks: 20)  \\\n",
       "0              12.0              16.0   \n",
       "1              15.0              11.0   \n",
       "2              14.0               9.0   \n",
       "3              16.0              13.0   \n",
       "4               0.0              14.0   \n",
       "\n",
       "   Class Test (Total of best 4, Marks: 80)  Attendance (Marks: 20)  \\\n",
       "0                                     47.5                      20   \n",
       "1                                     42.0                      20   \n",
       "2                                     48.5                      20   \n",
       "3                                     47.0                      20   \n",
       "4                                     41.5                      20   \n",
       "\n",
       "   Observation (Marks: 20)  Total (Marks: 120)  Sec A (140)  Sec B  Final Mark  \n",
       "0                       17                84.5           57   93.0      58.625  \n",
       "1                        8                70.0           83   55.0      52.000  \n",
       "2                       14                82.5           77   69.0      57.125  \n",
       "3                       15                82.0           15   88.0      42.500  \n",
       "4                       12                73.5           71   31.0      43.875  "
      ]
     },
     "execution_count": 3,
     "metadata": {},
     "output_type": "execute_result"
    }
   ],
   "source": [
    "df.head(5)"
   ]
  },
  {
   "cell_type": "code",
   "execution_count": 4,
   "metadata": {},
   "outputs": [
    {
     "data": {
      "text/plain": [
       "count    47.000000\n",
       "mean     62.764255\n",
       "std      14.702337\n",
       "min      22.750000\n",
       "25%      51.750000\n",
       "50%      64.750000\n",
       "75%      74.750000\n",
       "max      90.250000\n",
       "Name: Final Mark, dtype: float64"
      ]
     },
     "execution_count": 4,
     "metadata": {},
     "output_type": "execute_result"
    }
   ],
   "source": [
    "df['Final Mark'].describe()"
   ]
  },
  {
   "cell_type": "code",
   "execution_count": 5,
   "metadata": {},
   "outputs": [
    {
     "data": {
      "image/png": "[encoded data removed]",
      "text/plain": [
       "<Figure size 720x432 with 1 Axes>"
      ]
     },
     "metadata": {
      "needs_background": "light"
     },
     "output_type": "display_data"
    }
   ],
   "source": [
    "plt.figure(figsize =(10,6))\n",
    "plt.scatter(x = df['Attendance (Marks: 20)'], y = df['Final Mark'], c='r')\n",
    "plt.xlabel('Attendance')\n",
    "plt.ylabel('Final Mark')\n",
    "plt.title('Attendance \\nvs\\n Total Marks')\n",
    "plt.savefig('Attendance vs Total Marks')"
   ]
  },
  {
   "cell_type": "code",
   "execution_count": 6,
   "metadata": {},
   "outputs": [
    {
     "data": {
      "image/png": "[encoded data removed]",
      "text/plain": [
       "<Figure size 720x432 with 1 Axes>"
      ]
     },
     "metadata": {
      "needs_background": "light"
     },
     "output_type": "display_data"
    }
   ],
   "source": [
    "plt.figure(figsize =(10,6))\n",
    "plt.scatter(df['Class Test (Total of best 4, Marks: 80)'],df['Total (Marks: 120)'], c='g')\n",
    "plt.xlabel('Class Test')\n",
    "plt.ylabel('Final Mark')\n",
    "plt.title('Class Test \\n vs \\n Final Marks')\n",
    "plt.savefig('Class Test vs Final Marks')"
   ]
  },
  {
   "cell_type": "code",
   "execution_count": 7,
   "metadata": {},
   "outputs": [
    {
     "data": {
      "image/png": "[encoded data removed]",
      "text/plain": [
       "<Figure size 720x576 with 1 Axes>"
      ]
     },
     "metadata": {
      "needs_background": "light"
     },
     "output_type": "display_data"
    }
   ],
   "source": [
    "plt.figure(figsize =(10,8))\n",
    "sns.boxplot(df['Final Mark'])\n",
    "plt.savefig('Final Marks Box Plot')"
   ]
  },
  {
   "cell_type": "code",
   "execution_count": 8,
   "metadata": {},
   "outputs": [],
   "source": [
    "x_ct = df['Class Test (Total of best 4, Marks: 80)']\n",
    "y_final_exam= df['Total (Marks: 120)']"
   ]
  },
  {
   "cell_type": "code",
   "execution_count": 9,
   "metadata": {},
   "outputs": [
    {
     "data": {
      "text/plain": [
       "array([[1.        , 0.96782612],\n",
       "       [0.96782612, 1.        ]])"
      ]
     },
     "execution_count": 9,
     "metadata": {},
     "output_type": "execute_result"
    }
   ],
   "source": [
    "np.asmatrix(y_final_exam)\n",
    "np.asmatrix(x_ct)\n",
    "np.corrcoef(x_ct, y_final_exam,rowvar=True)"
   ]
  },
  {
   "cell_type": "code",
   "execution_count": 10,
   "metadata": {},
   "outputs": [
    {
     "data": {
      "image/png": "[encoded data removed]",
      "text/plain": [
       "<Figure size 432x288 with 1 Axes>"
      ]
     },
     "metadata": {
      "needs_background": "light"
     },
     "output_type": "display_data"
    }
   ],
   "source": [
    "df.hist(column='Final Mark',grid=False);"
   ]
  },
  {
   "cell_type": "code",
   "execution_count": null,
   "metadata": {},
   "outputs": [],
   "source": []
  },
  {
   "cell_type": "code",
   "execution_count": null,
   "metadata": {},
   "outputs": [],
   "source": []
  },
  {
   "cell_type": "code",
   "execution_count": null,
   "metadata": {},
   "outputs": [],
   "source": []
  }
 ],
 "metadata": {
  "kernelspec": {
   "display_name": "Python 3",
   "language": "python",
   "name": "python3"
  },
  "language_info": {
   "codemirror_mode": {
    "name": "ipython",
    "version": 3
   },
   "file_extension": ".py",
   "mimetype": "text/x-python",
   "name": "python",
   "nbconvert_exporter": "python",
   "pygments_lexer": "ipython3",
   "version": "3.7.4"
  }
 },
 "nbformat": 4,
 "nbformat_minor": 4
}
